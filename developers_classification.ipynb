{
 "cells": [
  {
   "cell_type": "markdown",
   "metadata": {},
   "source": [
    "# HAI916 - IA GL | Dev. Classifier"
   ]
  },
  {
   "cell_type": "markdown",
   "metadata": {},
   "source": [
    "## Étudiant sur le projet\n",
    "\n",
    "| 🎓 NOM Prénom | 📧 Email | 🏷️ N° Étudiant |\n",
    "| --- | --- | --- | \n",
    "**CANTA** Thomas | thomas.canta@etu.umontpellier.fr | 21607288\n",
    "**FONTAINE** Quentin | quentin.fontaine02@etu.umontpellier.fr | 21611404"
   ]
  },
  {
   "cell_type": "markdown",
   "metadata": {},
   "source": [
    "## Mise en place"
   ]
  },
  {
   "cell_type": "code",
   "execution_count": 1,
   "metadata": {},
   "outputs": [],
   "source": [
    "import pickle\n",
    "import numpy as np\n",
    "import pandas as pd\n",
    "from imblearn.over_sampling import KMeansSMOTE\n",
    "from sklearn.metrics import f1_score, recall_score, precision_score, classification_report, balanced_accuracy_score\n",
    "from sklearn.model_selection import StratifiedKFold\n",
    "from sklearn.ensemble import RandomForestClassifier\n",
    "from sklearn.preprocessing import MinMaxScaler\n",
    "from sklearn.linear_model import LinearRegression\n",
    "import glob\n",
    "import joblib\n",
    "from collections import Counter\n",
    "\n",
    "import os\n",
    "import re\n",
    "import subprocess\n",
    "import glob\n",
    "from git import Repo, Git\n",
    "\n",
    "from matplotlib import pyplot as plt\n",
    "\n",
    "# Save the current folder of the project\n",
    "wd_notebook = os.getcwd()"
   ]
  },
  {
   "cell_type": "markdown",
   "metadata": {
    "pycharm": {
     "name": "#%% md\n"
    }
   },
   "source": [
    "Fonction permettant de supprimer des colonnes dans un dataframe Pandas."
   ]
  },
  {
   "cell_type": "code",
   "execution_count": 2,
   "metadata": {
    "pycharm": {
     "name": "#%%\n"
    }
   },
   "outputs": [],
   "source": [
    "def delete_unused_columns(df):\n",
    "    columns_to_drop = [\"name\", \"followers\", \"commit_count_a\", \"source\", \"job\", \"name_without_spaces\", \"from\", \"to\",\n",
    "                       \"project\", \"index\", \"AddSM\",\"DelSM\",\"ChurnSM\",\"SumAddDelSM\",\"SumAddDel\"]\n",
    "\n",
    "    for column_to_drop in columns_to_drop:\n",
    "        if column_to_drop in df.columns :\n",
    "            df.drop(columns=[column_to_drop], inplace=True)\n",
    "\n",
    "    df[\"DiP\"] = df[\"DiP\"].round()\n",
    "    df[\"DiP\"].replace(0, 1, inplace=True)"
   ]
  },
  {
   "cell_type": "markdown",
   "metadata": {},
   "source": [
    "Fonction permettant d'appliquer un logarithme sur des colonnes d'un dataframe Pandas."
   ]
  },
  {
   "cell_type": "code",
   "execution_count": 3,
   "metadata": {
    "pycharm": {
     "name": "#%%\n"
    }
   },
   "outputs": [],
   "source": [
    "def log_dataframe(df):\n",
    "\n",
    "    columns_4_log = [\"SumAddDelLOC\", \"DiP\", \"NoC\", \"SumAddDelF\",\n",
    "                     \"SumAddDelSAM\", \"AddLOC\", \"DelLOC\", \"AddSAM\", \"DelSAM\"]\n",
    "\n",
    "    for column in columns_4_log:\n",
    "        df[column] = np.log(df[column] + 1)"
   ]
  },
  {
   "cell_type": "markdown",
   "metadata": {
    "pycharm": {
     "name": "#%% md\n"
    }
   },
   "source": [
    "Scores the classifier using a k-fold (here a Stratified 4-fold with shuffle)\n",
    "Synthetic data are created to train the classifier for each fold.\n",
    "Real data are used to compute measures for the classifier."
   ]
  },
  {
   "cell_type": "markdown",
   "metadata": {},
   "source": [
    "## 1) Récupération des métriques de BroadleafCommerce\n",
    "\n",
    "Nous travaillerons avec les versions majeures et mineures (voir [semantic versioning](https://semver.org/lang/fr/)) du projet BroadleafCommerce disponible sur GitHub : [https://github.com/BroadleafCommerce/BroadleafCommerce](https://github.com/BroadleafCommerce/BroadleafCommerce). Pour cela, nous allons cloner le dépôt puis récupérer les tags des versions et les filtrer par une expression régulière. Puis, pour chacun de ces tags, \"checkouter\" la version correspondante. Nous lancerons ensuite l'extraction des métriques à l'aide de l'application Java : ck ([https://github.com/mauricioaniche/ck](https://github.com/mauricioaniche/ck)). Cette application créée par Maurício Aniche est dédiée à l'extraction de plusieurs métriques logicielles dont le nombre de lignes de code que nous utiliserons plus tard. \n",
    "\n",
    "Dans ce TP, nous allons extraire \"manuellement\" métriques mais, les plateformes d'intégration continue comme Jenkins ou les outils d'analyse statique comme SonarQube permettent également de calculer des métriques de manière automatique à chaque version releasée ou commitée sur votre système de gestion de versions. \n",
    "\n",
    "\n",
    "Pour notre cas d'étude, nous allons : \n",
    "\n",
    "1. Utiliser le package GitPython et sa [documentation](https://gitpython.readthedocs.io/en/stable/)) pour :\n",
    "\n",
    "* Cloner le dépôt Github de BroadleafCommerce à l'endroit indiqué par la variable <code> PATH_TO_REPO </code> à l'aide de la méthode <code> Repo.clone_from </code>\n",
    "* Créer un objet <code> Repo </code> qui vous permettra de récupérer les tags des versions\n",
    "* Créer un objet <code> Git </code> qui vous permettra de \"checkouter\" la version désirée\n",
    "\n",
    "2. Récupérer la liste des tags du dépôt à l'aide de l'objet <code> Repo </code>.\n",
    "\n",
    "3. Itérer sur la liste des tags, où pour chaque tag vous allez : \n",
    "\n",
    "* Vérifier par une regexp que l'on se situe sur des tags ayant la forme <code> broadleaf-X.Y.0.GA </code> où <code> X </code> et <code> Y </code> peuvent varier entre 0 et 9 et où le tag a une taille fixe (utilisation de ^ et $ pour matérialiser le début et la fin de chaine de caractères)\n",
    "* Vérifier que l'on ne va pas extraire les métriques d'une version déjà présente dans le dossier <code> ck_metrics </code>\n",
    "* **/!\\ Une fois ces vérifications effectuées,** checkouter la version désirée à l'aide du tag\n",
    "* Lancer l'extraction des métriques à l'aide de l'instruction python suivante : <code> subprocess.run([\"java\", \"-jar\", \"ck.jar\", \"..\" + os.sep + \"BroadleafCommerce\"]) </code>\n",
    "* Renommer le fichier <code> class.csv </code> en <code> class_[tag].csv </code> et supprimer les fichiers <code> variable.csv, methode.csv, field.csv </code> créés par ck. "
   ]
  },
  {
   "cell_type": "code",
   "execution_count": 5,
   "metadata": {},
   "outputs": [],
   "source": [
    "GIT_REPO = \"https://github.com/BroadleafCommerce/BroadleafCommerce.git\"\n",
    "PATH_TO_REPO = \".\"+os.sep+\"BroadleafCommerce\"\n",
    "\n",
    "#Créer les objets Git et repo ici avant l'instruction change directory\n",
    "REPO = Repo.clone_from(GIT_REPO, PATH_TO_REPO)\n",
    "GIT = REPO.git"
   ]
  },
  {
   "cell_type": "markdown",
   "metadata": {},
   "source": [
    "### Tags existant"
   ]
  },
  {
   "cell_type": "code",
   "execution_count": 18,
   "metadata": {},
   "outputs": [
    {
     "name": "stdout",
     "output_type": "stream",
     "text": [
      "[i] Tags existant:\n",
      " ['broadleaf-1.5.0-GA', 'broadleaf-1.6.0-GA', 'broadleaf-2.0.0-GA', 'broadleaf-2.1.0-GA', 'broadleaf-2.2.0-GA', 'broadleaf-2.3.0-GA', 'broadleaf-2.4.0-GA', 'broadleaf-3.0.0-GA', 'broadleaf-3.1.0-GA', 'broadleaf-4.0.0-GA', 'broadleaf-4.1.0-GA', 'broadleaf-5.0.0-GA', 'broadleaf-5.1.0-GA', 'broadleaf-5.2.0-GA', 'broadleaf-6.0.0-GA', 'broadleaf-6.1.0-GA', 'broadleaf-6.2.0-GA']\n"
     ]
    }
   ],
   "source": [
    "regPattern = \"^broadleaf-[0-9].[0-9].0-GA$\"\n",
    "tags = []\n",
    "\n",
    "for tag in REPO.tags:\n",
    "    if re.match(regPattern, str(tag)):\n",
    "        tags.append(str(tag));\n",
    "\n",
    "print(\"[i] Tags existant:\\n\",tags)"
   ]
  },
  {
   "cell_type": "markdown",
   "metadata": {},
   "source": [
    "### Mise en commun avec les tags existants dans *ck_metrics*"
   ]
  },
  {
   "cell_type": "code",
   "execution_count": 19,
   "metadata": {},
   "outputs": [
    {
     "name": "stdout",
     "output_type": "stream",
     "text": [
      "[i] Tags final à extraire:\n",
      " ['broadleaf-6.2.0-GA', 'broadleaf-6.0.0-GA', 'broadleaf-6.1.0-GA', 'broadleaf-5.2.0-GA', 'broadleaf-1.5.0-GA']\n"
     ]
    }
   ],
   "source": [
    "os.chdir(\".\" + os.sep + \"ck_metrics\")\n",
    "\n",
    "regPattern = \"(class_)(broadleaf-[0-9].[0-9].[0-9]-GA)(.csv)\"\n",
    "existingVersion = []\n",
    "for file in os.listdir():\n",
    "    match = re.match(regPattern, file)\n",
    "    if match:\n",
    "        existingVersion.append(match.group(2))\n",
    "\n",
    "tags = list(set(tags) - set(existingVersion))\n",
    "print(\"[i] Tags final à extraire:\\n\",tags)"
   ]
  },
  {
   "cell_type": "markdown",
   "metadata": {},
   "source": [
    "### Extraction des métriques"
   ]
  },
  {
   "cell_type": "code",
   "execution_count": 20,
   "metadata": {},
   "outputs": [
    {
     "name": "stderr",
     "output_type": "stream",
     "text": [
      "log4j:WARN No appenders could be found for logger (com.github.mauricioaniche.ck.CK).\n",
      "log4j:WARN Please initialize the log4j system properly.\n",
      "log4j:WARN See http://logging.apache.org/log4j/1.2/faq.html#noconfig for more info.\n",
      "log4j:WARN No appenders could be found for logger (com.github.mauricioaniche.ck.CK).\n",
      "log4j:WARN Please initialize the log4j system properly.\n",
      "log4j:WARN See http://logging.apache.org/log4j/1.2/faq.html#noconfig for more info.\n",
      "log4j:WARN No appenders could be found for logger (com.github.mauricioaniche.ck.CK).\n",
      "log4j:WARN Please initialize the log4j system properly.\n",
      "log4j:WARN See http://logging.apache.org/log4j/1.2/faq.html#noconfig for more info.\n",
      "log4j:WARN No appenders could be found for logger (com.github.mauricioaniche.ck.CK).\n",
      "log4j:WARN Please initialize the log4j system properly.\n",
      "log4j:WARN See http://logging.apache.org/log4j/1.2/faq.html#noconfig for more info.\n",
      "log4j:WARN No appenders could be found for logger (com.github.mauricioaniche.ck.CK).\n",
      "log4j:WARN Please initialize the log4j system properly.\n",
      "log4j:WARN See http://logging.apache.org/log4j/1.2/faq.html#noconfig for more info.\n"
     ]
    },
    {
     "name": "stdout",
     "output_type": "stream",
     "text": [
      "Extraction done!\n"
     ]
    }
   ],
   "source": [
    "for tag in tags:\n",
    "    GIT.checkout(tag)\n",
    "    subprocess.run([\"java\", \"-jar\", \"ck.jar\", \"..\" + os.sep + \"BroadleafCommerce\"])\n",
    "    os.rename(\"class.csv\", \"class_\" + tag + \".csv\")\n",
    "    os.remove(\"field.csv\")\n",
    "    os.remove(\"method.csv\")\n",
    "    os.remove(\"variable.csv\")\n",
    "\n",
    "print(\"[+] Extraction done!\")"
   ]
  },
  {
   "cell_type": "markdown",
   "metadata": {},
   "source": [
    "## 2) Utilisation du classifieur de développeurs (Random Forest)\n",
    " \n",
    "Nous allons maintenant utiliser le classifieur de développeurs sauvegardé sous le nom \"classifier_rf.pkl\". \n",
    "Pour cela nous allons charger le classifieur à l'aide de <code> joblib.load </code> ([documentation](https://joblib.readthedocs.io/en/latest/generated/joblib.load.html))\n",
    "\n",
    "2. Nous allons utiliser les métriques (23) associées à des développeurs, celles-ci sont stockées dans le dossier <code> metrics_by_dev </code>. Chaque fichier de ce dossier est nommé en fonction de la version sur laquelle les métriques ont été extraites. Nous allons donc itérer sur la **liste de ces fichiers ordonnée par ordre alphanumérique**. \n",
    "\n",
    "4. Pour chaque fichier CSV, l'ouvrir avec Pandas en tant que Dataframe via la fonction : <code> pd.read_csv </code> ([documentation](https://pandas.pydata.org/pandas-docs/stable/reference/api/pandas.read_csv.html))\n",
    "\n",
    "3. Ces métriques sont à l'état \"brut\" dans les fichiers, c'est-à-dire qu'elles ont des échelles et des unités différentes. Le classifieur Random Forest que nous avons entrainé lui, ne travaille qu'avec des variables comprises dans [-1;1]. Ici, il va donc falloir faire une mise à l'échelle des variables à l'aide d'un scaler de Scikit-Learn : <code> MinMaxScaler </code> ([documentation](https://scikit-learn.org/stable/modules/generated/sklearn.preprocessing.MinMaxScaler.html#sklearn.preprocessing.MinMaxScaler)). De plus, afin de réduire les écarts de valeurs sur certaines variables nous allons appliquer un logarithme sur 11 de ces dernières à l'aide de la fonction  <code> log_dataframe </code> de ce Notebook.\n",
    "\n",
    "5. Prédire ensuite la catégorie des développeurs (\"NSSE\" ou \"SSE\") puis la stocker dans le dictionnaire <code> dict_classified_dev </code>. Faire un affichage à l'aide print pour visualiser l'évolution du nombre de dévoloppeurs dans chaque catégorie au fur et à mesure des versions.  \n"
   ]
  },
  {
   "cell_type": "markdown",
   "metadata": {},
   "source": [
    "### Récupération du classifier"
   ]
  },
  {
   "cell_type": "code",
   "execution_count": 21,
   "metadata": {},
   "outputs": [
    {
     "name": "stdout",
     "output_type": "stream",
     "text": [
      "RandomForestClassifier(max_features='log2', n_estimators=75, random_state=0)\n"
     ]
    }
   ],
   "source": [
    "dict_classified_dev = {'SSE' : [], 'NSSE' : []}\n",
    "list_versions = []\n",
    "dev_by_version = []\n",
    "\n",
    "os.chdir(wd_notebook)\n",
    "\n",
    "# Chargement du classifier\n",
    "clf = joblib.load(\"classifier_rf.pkl\")\n",
    "print(clf)"
   ]
  },
  {
   "cell_type": "markdown",
   "metadata": {},
   "source": [
    "### Récupération des versions"
   ]
  },
  {
   "cell_type": "code",
   "execution_count": 24,
   "metadata": {},
   "outputs": [],
   "source": [
    "os.chdir(\".\" + os.sep + \"metrics_by_dev\")\n",
    "\n",
    "# On récupère les versions dans l'ordre alphanumérique\n",
    "list_versions = [file for file in os.listdir()];\n",
    "list_versions.sort()"
   ]
  },
  {
   "cell_type": "markdown",
   "metadata": {},
   "source": [
    "### Analyse et prédictions"
   ]
  },
  {
   "cell_type": "code",
   "execution_count": 25,
   "metadata": {},
   "outputs": [
    {
     "name": "stdout",
     "output_type": "stream",
     "text": [
      "\n",
      "---------------------------------\n",
      "[i] Current Version: broadleaf-1.5.0-GA_broadleaf-1.6.0-GA_aggregated.csv\n",
      "[i] Nb Developpers:  4\n",
      "\n",
      "---------------------------------\n",
      "[i] Current Version: broadleaf-1.5.0-GA_broadleaf-2.0.0-GA_aggregated.csv\n",
      "[i] Nb Developpers:  8\n",
      "\n",
      "---------------------------------\n",
      "[i] Current Version: broadleaf-1.5.0-GA_broadleaf-2.1.0-GA_aggregated.csv\n",
      "[i] Nb Developpers:  8\n",
      "\n",
      "---------------------------------\n",
      "[i] Current Version: broadleaf-1.5.0-GA_broadleaf-2.2.0-GA_aggregated.csv\n",
      "[i] Nb Developpers:  10\n",
      "\n",
      "---------------------------------\n",
      "[i] Current Version: broadleaf-1.5.0-GA_broadleaf-2.3.0-GA_aggregated.csv\n",
      "[i] Nb Developpers:  10\n",
      "\n",
      "---------------------------------\n",
      "[i] Current Version: broadleaf-1.5.0-GA_broadleaf-2.4.0-GA_aggregated.csv\n",
      "[i] Nb Developpers:  10\n",
      "\n",
      "---------------------------------\n",
      "[i] Current Version: broadleaf-1.5.0-GA_broadleaf-3.0.0-GA_aggregated.csv\n",
      "[i] Nb Developpers:  11\n",
      "\n",
      "---------------------------------\n",
      "[i] Current Version: broadleaf-1.5.0-GA_broadleaf-3.1.0-GA_aggregated.csv\n",
      "[i] Nb Developpers:  16\n",
      "\n",
      "---------------------------------\n",
      "[i] Current Version: broadleaf-1.5.0-GA_broadleaf-4.0.0-GA_aggregated.csv\n",
      "[i] Nb Developpers:  28\n",
      "\n",
      "---------------------------------\n",
      "[i] Current Version: broadleaf-1.5.0-GA_broadleaf-4.1.0-GA_aggregated.csv\n",
      "[i] Nb Developpers:  32\n",
      "\n",
      "---------------------------------\n",
      "[i] Current Version: broadleaf-1.5.0-GA_broadleaf-5.0.0-GA_aggregated.csv\n",
      "[i] Nb Developpers:  32\n",
      "\n",
      "---------------------------------\n",
      "[i] Current Version: broadleaf-1.5.0-GA_broadleaf-5.1.0-GA_aggregated.csv\n",
      "[i] Nb Developpers:  35\n",
      "\n",
      "---------------------------------\n",
      "[i] Current Version: broadleaf-1.5.0-GA_broadleaf-5.2.0-GA_aggregated.csv\n",
      "[i] Nb Developpers:  41\n",
      "\n",
      "---------------------------------\n",
      "[i] Current Version: broadleaf-1.5.0-GA_broadleaf-6.0.0-GA_aggregated.csv\n",
      "[i] Nb Developpers:  51\n",
      "\n",
      "---------------------------------\n",
      "[i] Current Version: broadleaf-1.5.0-GA_broadleaf-6.1.0-GA_aggregated.csv\n",
      "[i] Nb Developpers:  56\n",
      "{'SSE': [1, 6, 6, 7, 7, 7, 7, 7, 7, 8, 11, 12, 12, 14, 15], 'NSSE': [3, 2, 2, 3, 3, 3, 4, 9, 21, 24, 21, 23, 29, 37, 41]}\n"
     ]
    }
   ],
   "source": [
    "scaler = MinMaxScaler(feature_range=(-1, 1));\n",
    "\n",
    "for version in list_versions:\n",
    "    print(\"\\n---------------------------------\")\n",
    "    print(\"[i] Current Version: \" + version)\n",
    "    \n",
    "    df = pd.read_csv(version)\n",
    "    nbDev = len(df.index)\n",
    "    print(\"[i] Nb Developpers: \", nbDev)\n",
    "    dev_by_version.append(nbDev)\n",
    "\n",
    "    # On supprime les colonnes inutiles\n",
    "    delete_unused_columns(df)\n",
    "\n",
    "    # Application du logarithme 11\n",
    "    log_dataframe(df)\n",
    "\n",
    "    # Mise à l'échelle\n",
    "    df_scale = scaler.fit_transform(df)\n",
    "\n",
    "    # Prédiction\n",
    "    predict = clf.predict(df_scale)\n",
    "\n",
    "    nbSSE = 0\n",
    "    nbNSSE = 0\n",
    "\n",
    "    for value in predict:\n",
    "        if (value == \"SSE\"): nbSSE = nbSSE + 1\n",
    "        else: nbNSSE = nbNSSE + 1\n",
    "    \n",
    "    dict_classified_dev[\"SSE\"].append(nbSSE)\n",
    "    dict_classified_dev[\"NSSE\"].append(nbNSSE)\n",
    "\n",
    "\n",
    "print(dict_classified_dev)"
   ]
  },
  {
   "cell_type": "markdown",
   "metadata": {},
   "source": [
    "### Représentation des résultats"
   ]
  },
  {
   "cell_type": "markdown",
   "metadata": {},
   "source": [
    "#### Nombre de développeur total par versions"
   ]
  },
  {
   "cell_type": "code",
   "execution_count": 27,
   "metadata": {},
   "outputs": [
    {
     "data": {
      "image/png": "[encoded data removed]",
      "text/plain": [
       "<Figure size 864x360 with 1 Axes>"
      ]
     },
     "metadata": {
      "needs_background": "light"
     },
     "output_type": "display_data"
    }
   ],
   "source": [
    "x = list_versions\n",
    "y = dev_by_version\n",
    "\n",
    "fig = plt.figure(figsize=(12,5))\n",
    "ax = fig.add_subplot(111)\n",
    "plt.plot(x, y,\n",
    "        marker='o', markersize=12,\n",
    "        linewidth=2, color='purple')\n",
    "\n",
    "# --- Cosmetic\n",
    "plt.title(label=\"Nombres de dev. par version\", fontsize=20)\n",
    "plt.xlabel(\"Versions\")\n",
    "plt.ylabel(\"Nombre de dev.\")\n",
    "\n",
    "plt.xticks(rotation=90)\n",
    "\n",
    "# --- Labels on marker\n",
    "for a,b in zip(x, y): \n",
    "    plt.text(a, b+2, str(b), ha=\"center\")\n",
    "\n",
    "# --- Ticks\n",
    "yticks_min = round(np.amin(y))\n",
    "yticks_max = round(np.amax(y))+10\n",
    "plt.yticks(np.arange(yticks_min, yticks_max, 5))\n",
    "\n",
    "plt.show()"
   ]
  },
  {
   "cell_type": "markdown",
   "metadata": {},
   "source": [
    "#### Nombre de développeur SSE et NSSE total par versions"
   ]
  },
  {
   "cell_type": "code",
   "execution_count": 28,
   "metadata": {},
   "outputs": [
    {
     "data": {
      "image/png": "[encoded data removed]",
      "text/plain": [
       "<Figure size 864x360 with 1 Axes>"
      ]
     },
     "metadata": {
      "needs_background": "light"
     },
     "output_type": "display_data"
    }
   ],
   "source": [
    "x = list_versions\n",
    "y1 = dict_classified_dev[\"SSE\"]\n",
    "y2 = dict_classified_dev[\"NSSE\"]\n",
    "\n",
    "fig = plt.figure(figsize=(12,5))\n",
    "ax = fig.add_subplot(111)\n",
    "plt.plot(x, y1, label=\"SSE\",\n",
    "        marker='o', markersize=14,\n",
    "        linewidth=2, color='purple')\n",
    "\n",
    "plt.plot(x, y2, label=\"NSSE\",\n",
    "        marker='o', markersize=14,\n",
    "        linewidth=2, color='orange')\n",
    "\n",
    "# --- Cosmetic\n",
    "plt.title(label=\"Comparaison du nombre de dev SSE et NSSE par version\", fontsize=20)\n",
    "plt.xlabel(\"Versions\")\n",
    "plt.ylabel(\"Nombre de dev.\")\n",
    "\n",
    "plt.xticks(rotation=90)\n",
    "\n",
    "# --- Labels on marker\n",
    "for a,b in zip(x, y1): \n",
    "    plt.text(a, b-0.6, str(b), ha=\"center\", color=\"white\", fontsize=9)\n",
    "\n",
    "for a,b in zip(x, y2): \n",
    "    plt.text(a, b-0.6, str(b), ha=\"center\", fontsize=9)\n",
    "\n",
    "plt.legend()\n",
    "plt.show()"
   ]
  },
  {
   "cell_type": "markdown",
   "metadata": {},
   "source": [
    "## 3) Extraction du nombre total de lignes de code depuis les fichiers CSV\n",
    "\n",
    "Nous avons classé les développeurs par catégorie pour chaque version de BroadleafCommerce. \n",
    "L'étape suivante est d'extraire le nombre total de ligne de code pour chaque version de BroadleafCommerce. Pour cela chacun des fichiers triés par ordre alphanumérique croissant doit être ouvert avec Pandas. Vous devez ensuite faire la somme de la colonne \"loc\" des fichiers et l'ajouter à la liste <code> loc_by_versions </code>."
   ]
  },
  {
   "cell_type": "code",
   "execution_count": 29,
   "metadata": {},
   "outputs": [
    {
     "name": "stdout",
     "output_type": "stream",
     "text": [
      "\n",
      "---------------------------------\n",
      "[i] Current version: class_broadleaf-1.6.0-GA.csv\n",
      "[i] Number of code lines:  77640\n",
      "\n",
      "---------------------------------\n",
      "[i] Current version: class_broadleaf-2.0.0-GA.csv\n",
      "[i] Number of code lines:  100686\n",
      "\n",
      "---------------------------------\n",
      "[i] Current version: class_broadleaf-2.1.0-GA.csv\n",
      "[i] Number of code lines:  101778\n",
      "\n",
      "---------------------------------\n",
      "[i] Current version: class_broadleaf-2.2.0-GA.csv\n",
      "[i] Number of code lines:  105371\n",
      "\n",
      "---------------------------------\n",
      "[i] Current version: class_broadleaf-2.3.0-GA.csv\n",
      "[i] Number of code lines:  108435\n",
      "\n",
      "---------------------------------\n",
      "[i] Current version: class_broadleaf-2.4.0-GA.csv\n",
      "[i] Number of code lines:  108459\n",
      "\n",
      "---------------------------------\n",
      "[i] Current version: class_broadleaf-3.0.0-GA.csv\n",
      "[i] Number of code lines:  92314\n",
      "\n",
      "---------------------------------\n",
      "[i] Current version: class_broadleaf-3.1.0-GA.csv\n",
      "[i] Number of code lines:  102533\n",
      "\n",
      "---------------------------------\n",
      "[i] Current version: class_broadleaf-4.0.0-GA.csv\n",
      "[i] Number of code lines:  121023\n",
      "\n",
      "---------------------------------\n",
      "[i] Current version: class_broadleaf-4.1.0-GA.csv\n",
      "[i] Number of code lines:  127584\n",
      "\n",
      "---------------------------------\n",
      "[i] Current version: class_broadleaf-5.0.0-GA.csv\n",
      "[i] Number of code lines:  131071\n",
      "\n",
      "---------------------------------\n",
      "[i] Current version: class_broadleaf-5.1.0-GA.csv\n",
      "[i] Number of code lines:  127385\n",
      "\n",
      "---------------------------------\n",
      "[i] Current version: class_broadleaf-5.2.0-GA.csv\n",
      "[i] Number of code lines:  134819\n",
      "\n",
      "---------------------------------\n",
      "[i] Current version: class_broadleaf-6.0.0-GA.csv\n",
      "[i] Number of code lines:  140862\n",
      "\n",
      "---------------------------------\n",
      "[i] Current version: class_broadleaf-6.1.0-GA.csv\n",
      "[i] Number of code lines:  144383\n",
      "\n",
      "\n",
      "[+] Loc by version: \n",
      "[77640, 100686, 101778, 105371, 108435, 108459, 92314, 102533, 121023, 127584, 131071, 127385, 134819, 140862, 144383]\n"
     ]
    }
   ],
   "source": [
    "#Liste où ajouter les loc de chaque version \n",
    "loc_by_versions = []\n",
    "\n",
    "os.chdir(wd_notebook + os.sep + 'ck_metrics')\n",
    "\n",
    "regPattern = \"class_broadleaf-[0-9].[0-9].[0-9]-GA.csv\"\n",
    "versions = []\n",
    "for file in os.listdir():\n",
    "    match = re.match(regPattern, file)\n",
    "    if match:\n",
    "        versions.append(match.string)\n",
    "\n",
    "# On ordonne dans l'ordre alphanumérique\n",
    "versions.sort()\n",
    "\n",
    "# On supprime le premier et dernier élément du tableau car on as pas les metrics\n",
    "# --- version 1.5.0 && 6.2.0\n",
    "versions = versions[1:len(versions)-1]\n",
    "\n",
    "for version in versions:\n",
    "    df = pd.read_csv(version)\n",
    "    nbLines = df['loc'].sum()\n",
    "    print(\"\\n---------------------------------\")\n",
    "    print(\"[i] Current version: \" + version)\n",
    "    print(\"[i] Number of code lines: \", nbLines)\n",
    "\n",
    "    loc_by_versions.append(nbLines)\n",
    "\n",
    "print(\"\\n\\n[+] Loc by version: \")\n",
    "print(loc_by_versions)"
   ]
  },
  {
   "cell_type": "markdown",
   "metadata": {},
   "source": [
    "## 4) Tracé du graphique du nombre de développeurs SSE et nombre de lignes de code par version de BroadleafCommerce\n",
    "\n",
    "L'objectif ici est de tracer à l'aide du package matplotlib ([documentation](https://matplotlib.org/stable/contents.html)) un graphique à 3 axes comme montré dans la figure d'exemple ci-dessous. \n",
    "\n",
    "![Évolution du nombre de développeurs SSE vs LOC](plot_sse_vs_loc_by_version.png)\n",
    "\n",
    "En traçant cette figure vous devriez observer une particularité commune aux deux courbes, faite part de cette observation dans la case textutelle ci-desssous. "
   ]
  },
  {
   "cell_type": "code",
   "execution_count": 30,
   "metadata": {},
   "outputs": [
    {
     "data": {
      "image/png": "[encoded data removed]",
      "text/plain": [
       "<Figure size 432x288 with 2 Axes>"
      ]
     },
     "metadata": {},
     "output_type": "display_data"
    }
   ],
   "source": [
    "x = versions\n",
    "y1 = dict_classified_dev[\"SSE\"]\n",
    "y2 = loc_by_versions\n",
    "\n",
    "fig, ax1 = plt.subplots()\n",
    "\n",
    "color=\"tab:orange\"\n",
    "ax1.set_xlabel(\"versions\")\n",
    "plt.xticks(rotation=90)\n",
    "ax1.set_ylabel(\"#SSE Developpers\", color=color)\n",
    "ax1.plot(x, y1, color=color)\n",
    "ax1.tick_params(axis=\"y\", labelcolor=color)\n",
    "\n",
    "#Création d'un deuxième axe Y \n",
    "color = \"tab:blue\"\n",
    "ax2 = ax1.twinx()\n",
    "ax2.set_ylabel('LOC', color=color)\n",
    "ax2.plot(x, y2, color=color)\n",
    "ax2.tick_params(axis=\"y\", labelcolor=color)\n",
    "\n",
    "plt.show()"
   ]
  },
  {
   "cell_type": "markdown",
   "metadata": {},
   "source": [
    "**Observation** : Les deux courbes se suivent de très près l'une de l'autre, ceci montre que le nombre de SSE et le nombre de lignes de codes associés est proportionelle."
   ]
  },
  {
   "cell_type": "markdown",
   "metadata": {},
   "source": [
    "## 5) Création d'un estimateur du nombre de développeurs expérimentés en fonction de la taille du projet (LoC)\n",
    "\n",
    "\n",
    "Nous avons maintenant l'ensemble des données permettant de créer un estimateur du nombre de développeurs expérimentés en fonction du nombre de ligne de code du projet. \n",
    "Pour ce faire, nous allons mettre en oeuvre un estimateur basé sur une régression linéaire : <code> LinearRegression </code> ([documentation](https://scikit-learn.org/stable/modules/generated/sklearn.linear_model.LinearRegression.html)). Cet estimateur utilise la méthode des moindres carrés afin d'ajuster une droite d'équation *ax+b+e* où *a* est le coefficient directeur, *b* l'ordonnée à l'origine et *e* l'erreur liée aux moindres carrés. \n",
    "\n",
    "Pour cela nous allons : \n",
    "1. Créer un objet LinearRegression et l'ajuster sur <code> X </code> et <code> y </code> à l'aide de la méthode <code> fit </code>.\n",
    "2. Afficher le coefficient de régression sur <code> X </code> et <code> y </code>.\n",
    "3. Déterminer le coefficient de détermination linéaire avec la fonction <code> r2_score </code> ([documentation](https://scikit-learn.org/stable/modules/model_evaluation.html#r2-score)) qui mesure l'ajustement entre les prédiction du classifieur sur les données <code> X </code> par rapport aux sorties <code> y </code>, plus il proche de 1 meilleures sont les prédictions. \n",
    "4. Prédire le nombre de développeurs expérimentés SSE pour 150000, 180000 et 200000 lignes de code. \n",
    "5. Tracer un graphique semblable à la figure d'exemple ci-desssous :\n",
    "\n",
    "![](plot_sse_loc_prediction.png)\n",
    "\n",
    "Les points noirs sont les données déjà connues à savoir le nombre de développeurs expérimentés et le nombre de lignes de code pour chaque version. Les point rouges correspondent aux trois valeurs prédites pour 150000, 180000 et 200000 lignes. La droite bleu est la droite de régression. Pour tracer ce graphique vous pouvez vous inspirer de cet [exemple Scikit-Learn ](https://scikit-learn.org/stable/auto_examples/linear_model/plot_ols.html#sphx-glr-auto-examples-linear-model-plot-ols-py). \n",
    "\n",
    "Voilà vous êtes maintenant capable de prédire vos besoins en ressources humaines en fonction de la taille de votre projet :) ! "
   ]
  },
  {
   "cell_type": "code",
   "execution_count": 31,
   "metadata": {},
   "outputs": [
    {
     "name": "stdout",
     "output_type": "stream",
     "text": [
      "[i] Coefficients r2_score:  0.8584605562653664\n"
     ]
    },
    {
     "data": {
      "image/png": "[encoded data removed]",
      "text/plain": [
       "<Figure size 432x288 with 1 Axes>"
      ]
     },
     "metadata": {
      "needs_background": "light"
     },
     "output_type": "display_data"
    }
   ],
   "source": [
    "from sklearn.metrics import r2_score\n",
    "\n",
    "#Valeurs X et y à utiliser pour entrainer et évaluer le régresseur\n",
    "X = np.array(loc_by_versions).reshape(-1,1)\n",
    "y = np.array(dict_classified_dev[\"SSE\"])\n",
    "\n",
    "LR = LinearRegression()\n",
    "\n",
    "LR.fit(X, y)\n",
    "\n",
    "# The prediction\n",
    "prediction = LR.predict(X)\n",
    "\n",
    "valuesToPredict = [[150000], [180000], [200000]]\n",
    "valuesPrediction = LR.predict(valuesToPredict)\n",
    "\n",
    "# The coefficient\n",
    "print(\"[i] Coefficients r2_score: \", r2_score(y, prediction))\n",
    "\n",
    "# Plot outputs\n",
    "plt.scatter(X, y, color=\"black\")\n",
    "plt.scatter(valuesToPredict, valuesPrediction, color=\"red\")\n",
    "plt.plot(X, prediction, color=\"blue\", linewidth=3)\n",
    "\n",
    "plt.xticks(np.arange(100000, 220000, step=20000))\n",
    "plt.yticks(np.arange(0, max(y.max(), valuesPrediction.max()), step=2.5))\n",
    "plt.xlabel('LoC')\n",
    "plt.ylabel('#SSE Developpers')\n",
    "plt.title(\"Estimation du nombre de SSE en fonction de la taille du projet\")\n",
    "plt.show()"
   ]
  },
  {
   "cell_type": "markdown",
   "metadata": {},
   "source": [
    "---\n",
    "\n",
    "## Bonus\n",
    "\n",
    "Jusque là nous avons utilisé un classifieur Random Forest déjà entrainé puis sauvegardé au format Pickle (sérialisation). Dans le bloc de code ci-dessous vous trouverez le code qui a permis la création de ce classifieur. \n",
    "\n",
    "Ce code est découpé en plusieurs parties:\n",
    "\n",
    "* Ouverture du CSV contenant les développeurs et leurs métriques avec Pandas\n",
    "* Suppresssion des colonnes non utilisées pour la classification\n",
    "* Transformation des variables (logarithme et mise à l'échelle)\n",
    "* Création de l'objet permettant de générer des données synthétiques. Les données synthétiques permettent de contrebalancer le fait que nous n'ayons que peu de données dans la classe des développeurs expérimentés. \n",
    "* Création du classifieur ici un random forest\n",
    "* Évaluation du classifieur via 4-fold stratifié ([documentation](https://scikit-learn.org/stable/modules/generated/sklearn.model_selection.StratifiedKFold.html?highlight=stratifiedkfold#sklearn.model_selection.StratifiedKFold))\n",
    "* Génération de données synthétiques sur l'ensemble du jeu de données puis entrainement du modèle\n",
    "* Sauvegarde du modèle au format pickle\n",
    "\n",
    "Vous pouvez modifier plusieurs choses qui vont influer sur la qualité de votre classifieur :  \n",
    "- Les variables utilisées. Nous utilisons ici 23 métriques. Vous pouvez en supprimer dans le dataframe Pandas et constater l'effet. \n",
    "- Le scaler utilisé, ici un MinMax pour mettre les variables dans l'intervalle [-1,1] ([documentation sur les types de scaler](https://www.datacorner.fr/feature-scaling/))\n",
    "- Le type de classifieur utilisé (ici Random Forest) et ses paramètres. Vous pouvez choisir un autre classifieur parmis ceux fournis par le package Scikit Learn ([documentation](https://scikit-learn.org/stable/auto_examples/classification/plot_classifier_comparison.html#sphx-glr-auto-examples-classification-plot-classifier-comparison-py))\n",
    "- L'utilisation ou non de la génération de données synthétiques. \n",
    "\n",
    "\n",
    "\n",
    " "
   ]
  },
  {
   "cell_type": "markdown",
   "metadata": {
    "pycharm": {
     "name": "#%% md\n"
    }
   },
   "source": [
    "Returns labels (y)"
   ]
  },
  {
   "cell_type": "code",
   "execution_count": 32,
   "metadata": {
    "pycharm": {
     "name": "#%%\n"
    }
   },
   "outputs": [],
   "source": [
    "def get_labels(df):\n",
    "    df.loc[df['job'] == \"SA\", 'job'] = \"SSE\"\n",
    "    df.loc[df['job'] != \"SSE\", 'job'] = \"NSSE\"\n",
    "\n",
    "    return df[\"job\"]"
   ]
  },
  {
   "cell_type": "markdown",
   "metadata": {
    "pycharm": {
     "name": "#%% md\n"
    }
   },
   "source": [
    "Scales data according to the scaler given as input"
   ]
  },
  {
   "cell_type": "code",
   "execution_count": 33,
   "metadata": {
    "pycharm": {
     "name": "#%%\n"
    }
   },
   "outputs": [],
   "source": [
    "def scaling(scaler, X):\n",
    "    return scaler.fit_transform(X)"
   ]
  },
  {
   "cell_type": "markdown",
   "metadata": {
    "pycharm": {
     "name": "#%% md\n"
    }
   },
   "source": [
    "Creates synthetic data with original data using smote method."
   ]
  },
  {
   "cell_type": "code",
   "execution_count": 34,
   "metadata": {
    "pycharm": {
     "name": "#%%\n"
    }
   },
   "outputs": [],
   "source": [
    "def create_synthetic_data(smote, X_scaled, y):\n",
    "    return smote.fit_resample(X_scaled, y)"
   ]
  },
  {
   "cell_type": "markdown",
   "metadata": {
    "pycharm": {
     "name": "#%% md\n"
    }
   },
   "source": [
    "Train the classifier with synthetic data an create a classification report on original data"
   ]
  },
  {
   "cell_type": "code",
   "execution_count": 35,
   "metadata": {
    "pycharm": {
     "name": "#%%\n"
    }
   },
   "outputs": [],
   "source": [
    "def train_and_classification_report(classifier, X_synthetic, y_synthetic, X_scaled, y):\n",
    "    classifier.fit(X_synthetic, y_synthetic)\n",
    "    print(classification_report(y, classifier.predict(X_scaled)))"
   ]
  },
  {
   "cell_type": "code",
   "execution_count": 36,
   "metadata": {
    "pycharm": {
     "name": "#%%\n"
    }
   },
   "outputs": [],
   "source": [
    "def stratifiedKFold_scoring(classifier, X_scaled, y, smote = None):\n",
    "    kf = StratifiedKFold(n_splits=4, shuffle=False)#, random_state=0)\n",
    "    print(\"===> Start kfold <===\")\n",
    "    scores = {\"F1\": {\"values\" : []}, \"Recall\": {\"values\" : []},\n",
    "              \"Precision\": {\"values\" : []}, \"Balanced\\nAccuracy\" : {\"values\" : []}}\n",
    "\n",
    "    for fold, (train_index, test_index) in enumerate(kf.split(X_scaled, y), 1):\n",
    "        print(\"=> Fold : \",fold)\n",
    "        #print(\"TRAIN:\", train_index, \"TEST:\", test_index)\n",
    "        X_train = X_scaled[train_index]\n",
    "        y_train = y[train_index]\n",
    "        X_test = X_scaled[test_index]\n",
    "        y_test = y[test_index]\n",
    "\n",
    "        if smote is not None:\n",
    "            X_train_synthetic, y_train_synthetic = smote.fit_resample(X_train, y_train)\n",
    "            classifier.fit(X_train_synthetic, y_train_synthetic)\n",
    "        else:\n",
    "            classifier.fit(X_train, y_train)\n",
    "        y_pred = classifier.predict(X_test)\n",
    "\n",
    "        f1 = f1_score(y_test, y_pred, pos_label=\"SSE\")\n",
    "        recall = recall_score(y_test, y_pred, pos_label=\"SSE\")\n",
    "        precision = precision_score(y_test, y_pred, pos_label=\"SSE\")\n",
    "        accuracy = balanced_accuracy_score(y_test, y_pred)\n",
    "\n",
    "        scores[\"F1\"][\"values\"].append(f1)\n",
    "        scores[\"Recall\"][\"values\"].append(recall)\n",
    "        scores[\"Precision\"][\"values\"].append(precision)\n",
    "        scores[\"Balanced\\nAccuracy\"][\"values\"].append(accuracy)\n",
    "\n",
    "    for key in scores:\n",
    "        scores[key][\"values\"] = np.array(scores[key][\"values\"])\n",
    "        scores[key][\"mean\"] = np.mean(scores[key][\"values\"])\n",
    "        scores[key][\"std\"] = np.std(scores[key][\"values\"])\n",
    "        scores[key][\"ci95\"] = np.std(scores[key][\"values\"]) * 2\n",
    "\n",
    "        print(key, \"mean :%0.4f\" % scores[key][\"mean\"])\n",
    "        print(key, \"std : %0.4f\" % scores[key][\"std\"])\n",
    "        print(key, \"95%% Confidence Interval +/- %0.4f\" % (scores[key][\"ci95\"]))\n",
    "        print()\n",
    "    return scores"
   ]
  },
  {
   "cell_type": "code",
   "execution_count": null,
   "metadata": {
    "pycharm": {
     "name": "#%%\n"
    }
   },
   "outputs": [],
   "source": [
    "df = pd.read_csv(\"dataset_dev_anonymized.csv\")\n",
    "y = get_labels(df)\n",
    "\n",
    "delete_unused_columns(df)\n",
    "\n",
    "log_dataframe(df)\n",
    "scaler = MinMaxScaler(feature_range=(-1,1))\n",
    "\n",
    "X = df\n",
    "X_scaled = scaling(scaler, X)\n",
    "\n",
    "#Instanciation du générateur de données synthétiques à l'aide de la méthode k-means SMOTE\n",
    "smote = KMeansSMOTE(sampling_strategy='minority', random_state=9090)\n",
    "#Création du classifieur RF\n",
    "classifier = RandomForestClassifier(criterion='gini', max_depth=None, max_features='log2', n_estimators=75, random_state=0)\n",
    "\n",
    "#Évaluation du classifieur à l'aide d'un 4-fold stratifié\n",
    "stratifiedKFold_scoring(classifier, X_scaled, y, smote = smote)\n",
    "\n",
    "#Génération de données synthétiques sur l'ensemble des données\n",
    "X_synthetic, y_synthetic = smote.fit_resample(X_scaled, y)\n",
    "#Entrainement du classifieur sur les données synthétiques\n",
    "classifier.fit(X_synthetic, y_synthetic)\n",
    "#Sauvegarde du classifieur (sérialisation) \n",
    "pickle.dump(classifier, open(\"classifier_rf.pkl\", 'wb'))\n"
   ]
  }
 ],
 "metadata": {
  "interpreter": {
   "hash": "b972025ffaeb9fad2e6c47485e66bc7f129e1b41ab4934c78195a6e21efd40ea"
  },
  "kernelspec": {
   "display_name": "Python 3.9.7 64-bit ('venv': venv)",
   "name": "python3"
  },
  "language_info": {
   "codemirror_mode": {
    "name": "ipython",
    "version": 3
   },
   "file_extension": ".py",
   "mimetype": "text/x-python",
   "name": "python",
   "nbconvert_exporter": "python",
   "pygments_lexer": "ipython3",
   "version": "3.9.5"
  }
 },
 "nbformat": 4,
 "nbformat_minor": 1
}
